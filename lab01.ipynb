version https://git-lfs.github.com/spec/v1
oid sha256:f35045210bd3ec27f6ae1b6f55c4ea8d312257201b8b3097ca26496bdf17de68
size 119112677
