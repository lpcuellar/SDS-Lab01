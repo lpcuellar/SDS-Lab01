version https://git-lfs.github.com/spec/v1
oid sha256:861e2cc79d4369cf09cd2c8a1267cc5af2f75e2f2d035358c07e9dc127b503e7
size 87314
